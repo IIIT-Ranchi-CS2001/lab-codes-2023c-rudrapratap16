{
 "cells": [
  {
   "cell_type": "code",
   "execution_count": 1,
   "metadata": {},
   "outputs": [
    {
     "name": "stdout",
     "output_type": "stream",
     "text": [
      "Sum:  15\n",
      "Difference:  -5\n",
      "Product:  50\n",
      "Integer quotient:  0\n",
      "Remainder:  5\n",
      "Fractional quotient:  0.5\n"
     ]
    }
   ],
   "source": [
    "num1 = int(input(\"Enter the first number: \"))\n",
    "num2 = int(input(\"Enter the second number: \"))\n",
    "\n",
    "print(\"Sum: \", num1+num2)\n",
    "print(\"Difference: \", num1-num2)\n",
    "print(\"Product: \", num1*num2)\n",
    "print(\"Integer quotient: \", num1//num2)\n",
    "print(\"Remainder: \", num1%num2)\n",
    "print(\"Fractional quotient: \", num1/num2)\n"
   ]
  },
  {
   "cell_type": "code",
   "execution_count": 3,
   "metadata": {},
   "outputs": [
    {
     "name": "stdout",
     "output_type": "stream",
     "text": [
      "Area of the triangle:  2.9047375096555625\n",
      "Perimeter of the triangle:  9\n",
      "Angle A:  46.56746344221023\n",
      "Angle B:  104.47751218592992\n",
      "Angle C:  28.95502437185985\n"
     ]
    }
   ],
   "source": [
    "from math import acos, degrees, sqrt\n",
    "a= int(input(\"Enter the first side of the triangle: \"))\n",
    "b= int(input(\"Enter the second side of the triangle: \"))\n",
    "c= int(input(\"Enter the third side of the triangle: \"))\n",
    "s = (a+b+c)/2\n",
    "area = sqrt(s*(s-a)*(s-b)*(s-c))\n",
    "perimeter = a+b+c\n",
    "print(\"Area of the triangle: \", area)\n",
    "print(\"Perimeter of the triangle: \", perimeter)\n",
    "\n",
    "angleA = degrees(acos((b**2 + c**2 - a**2)/(2*b*c)))\n",
    "angleB = degrees(acos((a**2 + c**2 - b**2)/(2*a*c)))\n",
    "angleC = degrees(acos((a**2 + b**2 - c**2)/(2*a*b)))\n",
    "print(\"Angle A: \", angleA)\n",
    "print(\"Angle B: \", angleB)\n",
    "print(\"Angle C: \", angleC)\n",
    "\n",
    "\n"
   ]
  },
  {
   "cell_type": "code",
   "execution_count": 5,
   "metadata": {},
   "outputs": [
    {
     "name": "stdout",
     "output_type": "stream",
     "text": [
      "Z1:  (1+5j)\n",
      "Z2:  (2+4j)\n",
      "Real part of the equivalent impedance:  0.8\n",
      "Imaginary part of the equivalent impedance:  2.2666666666666666\n"
     ]
    }
   ],
   "source": [
    "import cmath\n",
    "z1 = complex(input(\"Enter the first impedance: \"))\n",
    "z2 = complex(input(\"Enter the second impedance: \"))\n",
    "z = 1/((1/z1) + (1/z2))\n",
    "print(\"Z1: \", z1)\n",
    "print(\"Z2: \", z2)\n",
    "print(\"Real part of the equivalent impedance: \", z.real)\n",
    "print(\"Imaginary part of the equivalent impedance: \", z.imag)\n",
    "\n"
   ]
  },
  {
   "cell_type": "code",
   "execution_count": null,
   "metadata": {},
   "outputs": [],
   "source": []
  }
 ],
 "metadata": {
  "kernelspec": {
   "display_name": "Python 3",
   "language": "python",
   "name": "python3"
  },
  "language_info": {
   "codemirror_mode": {
    "name": "ipython",
    "version": 3
   },
   "file_extension": ".py",
   "mimetype": "text/x-python",
   "name": "python",
   "nbconvert_exporter": "python",
   "pygments_lexer": "ipython3",
   "version": "3.12.5"
  }
 },
 "nbformat": 4,
 "nbformat_minor": 2
}
